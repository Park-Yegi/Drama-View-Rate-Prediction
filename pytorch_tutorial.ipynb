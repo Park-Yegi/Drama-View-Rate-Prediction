{
  "nbformat": 4,
  "nbformat_minor": 0,
  "metadata": {
    "colab": {
      "name": "pytorch_tutorial.ipynb",
      "provenance": [],
      "collapsed_sections": [],
      "authorship_tag": "ABX9TyM+OgR3QLuJjRptgERB3087",
      "include_colab_link": true
    },
    "kernelspec": {
      "name": "python3",
      "display_name": "Python 3"
    }
  },
  "cells": [
    {
      "cell_type": "markdown",
      "metadata": {
        "id": "view-in-github",
        "colab_type": "text"
      },
      "source": [
        "<a href=\"https://colab.research.google.com/github/Park-Yegi/Drama-View-Rate-Prediction/blob/master/pytorch_tutorial.ipynb\" target=\"_parent\"><img src=\"https://colab.research.google.com/assets/colab-badge.svg\" alt=\"Open In Colab\"/></a>"
      ]
    },
    {
      "cell_type": "code",
      "metadata": {
        "id": "ta9kFXWMEzb5"
      },
      "source": [
        "import torch\n",
        "import torch.nn as nn\n",
        "\n",
        "import numpy as np\n",
        "import random"
      ],
      "execution_count": null,
      "outputs": []
    },
    {
      "cell_type": "code",
      "metadata": {
        "id": "Jsb9wP2rE2eQ"
      },
      "source": [
        "### Tensor\n",
        "x = torch.Tensor([[1,2], [3,4]])\n",
        "x = torch.from_numpy(np.array([[1,2], [3,4]]))"
      ],
      "execution_count": null,
      "outputs": []
    },
    {
      "cell_type": "code",
      "metadata": {
        "id": "dUl0rheYE4My"
      },
      "source": [
        "### Autograd\n",
        "x = torch.FloatTensor(2,2)\n",
        "y = torch.FloatTensor(2,2)\n",
        "y.requires_grad_(True)\n",
        "\n",
        "# z = (x + y) + torch.FloatTensor(2,2)\n",
        "with torch.no_grad():\n",
        "  z = (x + y) + torch.FloatTensor(2,2)"
      ],
      "execution_count": null,
      "outputs": []
    },
    {
      "cell_type": "code",
      "metadata": {
        "id": "VFLC_yuxE7Ai"
      },
      "source": [
        "### Linear layer(fully-connected layer)\n",
        "def linear(x, W, b):\n",
        "  y = torch.mm(x, W) + b\n",
        "  return y\n",
        "\n",
        "x = torch.FloatTensor(16,10)\n",
        "W = torch.FloatTensor(10,5)\n",
        "b = torch.FloatTensor(5)\n",
        "\n",
        "y = linear(x, W, b)"
      ],
      "execution_count": null,
      "outputs": []
    },
    {
      "cell_type": "code",
      "metadata": {
        "id": "EsD1N6yDAIBJ",
        "outputId": "dc9c3a35-942f-4b3d-cb3c-f98f01807791",
        "colab": {
          "base_uri": "https://localhost:8080/",
          "height": 68
        }
      },
      "source": [
        "### nn.Module\n",
        "# class MyLinear(nn.Module):\n",
        "\n",
        "#   def __init__(self, input_size, output_size):\n",
        "#     super().__init__()\n",
        "\n",
        "#     self.W = nn.Parameter(torch.FloatTensor(input_size, output_size), requires_grad=True)\n",
        "#     self.b = nn.Parameter(torch.FloatTensor(output_size), requires_grad=True)\n",
        "\n",
        "#   def forward(self, x):\n",
        "#     y = torch.mm(x, self.W) + self.b\n",
        "\n",
        "#     return y\n",
        "\n",
        "# x = torch.FloatTensor(16,10)\n",
        "# linear = MyLinear(10,5)\n",
        "# y = linear(x)\n",
        "\n",
        "# params = [p.size() for p in linear.parameters()]\n",
        "# print(params)\n",
        "\n",
        "\n",
        "## Clean Code\n",
        "class MyLinear(nn.Module):\n",
        "\n",
        "  def __init__(self, input_size, output_size):\n",
        "    super(MyLinear, self).__init__()\n",
        "\n",
        "    self.linear = nn.Linear(input_size, output_size)\n",
        "\n",
        "  def forward(self, x):\n",
        "    y = self.linear(x)\n",
        "\n",
        "    return y\n",
        "\n",
        "x = torch.FloatTensor(16,10)\n",
        "linear = MyLinear(10,5)\n",
        "y = linear(x)\n",
        "print(linear)"
      ],
      "execution_count": null,
      "outputs": [
        {
          "output_type": "stream",
          "text": [
            "MyLinear(\n",
            "  (linear): Linear(in_features=10, out_features=5, bias=True)\n",
            ")\n"
          ],
          "name": "stdout"
        }
      ]
    },
    {
      "cell_type": "code",
      "metadata": {
        "id": "bdT7V8ZfH3mI"
      },
      "source": [
        "#### Back-propagation\n",
        "objective = 100\n",
        "\n",
        "x = torch.FloatTensor(16, 10)\n",
        "linear = MyLinear(10,5)\n",
        "y = linear(x)\n",
        "loss = (objective - y.sum())**2\n",
        "\n",
        "loss.backward()"
      ],
      "execution_count": null,
      "outputs": []
    },
    {
      "cell_type": "code",
      "metadata": {
        "id": "TBpnan8DKLG8",
        "outputId": "50cf91c9-be62-42df-ad3a-6d770f6d14c9",
        "colab": {
          "base_uri": "https://localhost:8080/",
          "height": 68
        }
      },
      "source": [
        "#### train() and eval()\n",
        "# Training...\n",
        "linear.eval()\n",
        "# Do some inference process.\n",
        "linear.train()\n",
        "# Restart training, again."
      ],
      "execution_count": null,
      "outputs": [
        {
          "output_type": "execute_result",
          "data": {
            "text/plain": [
              "MyLinear(\n",
              "  (linear): Linear(in_features=10, out_features=5, bias=True)\n",
              ")"
            ]
          },
          "metadata": {
            "tags": []
          },
          "execution_count": 15
        }
      ]
    },
    {
      "cell_type": "markdown",
      "metadata": {
        "id": "_uEmVgIPLb9N"
      },
      "source": [
        "Linear Regression Example"
      ]
    },
    {
      "cell_type": "code",
      "metadata": {
        "id": "gzdb_V64Kotz"
      },
      "source": [
        "class MyModel(nn.Module):\n",
        "\n",
        "  def __init__(self, input_size, output_size):\n",
        "    super(MyModel, self).__init__()\n",
        "\n",
        "    self.linear = nn.Linear(input_size, output_size)\n",
        "\n",
        "  def forward(self, x):\n",
        "    y = self.linear(x)\n",
        "\n",
        "    return y"
      ],
      "execution_count": null,
      "outputs": []
    },
    {
      "cell_type": "code",
      "metadata": {
        "id": "vUPzFUeHLQv-"
      },
      "source": [
        "def ground_truth(x):\n",
        "  return 3 * x[:, 0] + x[:, 1] - 2 * x[:, 2]"
      ],
      "execution_count": null,
      "outputs": []
    },
    {
      "cell_type": "code",
      "metadata": {
        "id": "iMClWCoALiNh"
      },
      "source": [
        "def train(mode, x, y, optim):\n",
        "  # initialize gradients in all parameters in module.\n",
        "  optim.zero_grad()\n",
        "\n",
        "  # feed-forward\n",
        "  y_hat = model(x)\n",
        "  # get error between answer and inferenced.\n",
        "  loss = ((y - y_hat)**2).sum() / x.size(0)\n",
        "\n",
        "  # back_propagation\n",
        "  loss.backward()\n",
        "\n",
        "  # one-step of gradient descent\n",
        "  optim.step()\n",
        "\n",
        "  return loss.data"
      ],
      "execution_count": null,
      "outputs": []
    },
    {
      "cell_type": "code",
      "metadata": {
        "id": "ZC6XAPzoOebZ",
        "outputId": "91409ec8-cc06-4b7c-8cf4-55146ee51c84",
        "colab": {
          "base_uri": "https://localhost:8080/",
          "height": 68
        }
      },
      "source": [
        "batch_size = 1\n",
        "n_epochs = 1000\n",
        "n_iter = 10000\n",
        "\n",
        "model = MyModel(3,1)\n",
        "optim = torch.optim.SGD(model.parameters(), lr=0.0001, momentum=0.1)\n",
        "\n",
        "print(model)"
      ],
      "execution_count": null,
      "outputs": [
        {
          "output_type": "stream",
          "text": [
            "MyModel(\n",
            "  (linear): Linear(in_features=3, out_features=1, bias=True)\n",
            ")\n"
          ],
          "name": "stdout"
        }
      ]
    },
    {
      "cell_type": "code",
      "metadata": {
        "id": "M2MTQ233OzPf",
        "outputId": "75424647-d5b1-4799-f81d-0718b1ffb2e4",
        "colab": {
          "base_uri": "https://localhost:8080/",
          "height": 374
        }
      },
      "source": [
        "for epoch in range(n_epochs):\n",
        "  avg_loss = 0\n",
        "\n",
        "  for i in range(n_iter):\n",
        "    x = torch.rand(batch_size, 3)\n",
        "    y = ground_truth(x.data)\n",
        "\n",
        "    loss = train(model, x, y, optim)\n",
        "\n",
        "    avg_loss += loss\n",
        "  avg_loss = avg_loss/n_iter\n",
        "\n",
        "  # simple test sample to check the network.\n",
        "  x_valid = torch.FloatTensor([[.3, .2, .1]])\n",
        "  y_valid = ground_truth(x_valid.data)\n",
        "\n",
        "  model.eval()\n",
        "  y_hat = model(x_valid)\n",
        "  model.train()\n",
        "\n",
        "  print(avg_loss, y_valid.data[0], y_hat.data[0, 0])\n",
        "\n",
        "  if avg_loss < .001: # finish the training if the loss is smaller than .001\n",
        "    break\n"
      ],
      "execution_count": null,
      "outputs": [
        {
          "output_type": "stream",
          "text": [
            "tensor(1.2086) tensor(0.9000) tensor(0.7099)\n",
            "tensor(0.5886) tensor(0.9000) tensor(0.7711)\n",
            "tensor(0.4073) tensor(0.9000) tensor(0.8154)\n",
            "tensor(0.2874) tensor(0.9000) tensor(0.8462)\n",
            "tensor(0.1992) tensor(0.9000) tensor(0.8594)\n",
            "tensor(0.1342) tensor(0.9000) tensor(0.8742)\n",
            "tensor(0.0965) tensor(0.9000) tensor(0.8943)\n",
            "tensor(0.0653) tensor(0.9000) tensor(0.9044)\n",
            "tensor(0.0456) tensor(0.9000) tensor(0.9115)\n",
            "tensor(0.0317) tensor(0.9000) tensor(0.9206)\n",
            "tensor(0.0228) tensor(0.9000) tensor(0.9195)\n",
            "tensor(0.0158) tensor(0.9000) tensor(0.9213)\n",
            "tensor(0.0113) tensor(0.9000) tensor(0.9239)\n",
            "tensor(0.0078) tensor(0.9000) tensor(0.9253)\n",
            "tensor(0.0055) tensor(0.9000) tensor(0.9247)\n",
            "tensor(0.0039) tensor(0.9000) tensor(0.9247)\n",
            "tensor(0.0028) tensor(0.9000) tensor(0.9246)\n",
            "tensor(0.0020) tensor(0.9000) tensor(0.9233)\n",
            "tensor(0.0015) tensor(0.9000) tensor(0.9220)\n",
            "tensor(0.0011) tensor(0.9000) tensor(0.9202)\n",
            "tensor(0.0008) tensor(0.9000) tensor(0.9196)\n"
          ],
          "name": "stdout"
        }
      ]
    },
    {
      "cell_type": "code",
      "metadata": {
        "id": "irMtA7nmQcqZ"
      },
      "source": [
        "## Use GPU\n",
        "# Note that tensor is declared in torch.cuda.\n",
        "x = torch.cuda.FloatTensor(16,10)\n",
        "linear = MyLinear(10,5)\n",
        "# .cuda() let module move to GPU memory.\n",
        "linear.cuda()\n",
        "y = linear(x)"
      ],
      "execution_count": null,
      "outputs": []
    }
  ]
}